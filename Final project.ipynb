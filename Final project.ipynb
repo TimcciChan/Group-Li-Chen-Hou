{
 "cells": [
  {
   "cell_type": "code",
   "execution_count": 10,
   "metadata": {},
   "outputs": [],
   "source": [
    "from calendar import monthrange\n",
    "from datetime import timedelta, date\n",
    "from math import copysign\n",
    "import numpy as np\n",
    "import pandas as pd\n",
    "from dateutil.easter import *\n",
    "from dateutil.relativedelta import relativedelta\n",
    "import datetime\n",
    "import warnings\n",
    "warnings.filterwarnings(\"ignore\")\n",
    "%matplotlib inline"
   ]
  },
  {
   "cell_type": "code",
   "execution_count": 11,
   "metadata": {},
   "outputs": [],
   "source": [
    "class Scheduler(object):    \n",
    "    def getSchedule(self, start, end, freq):\n",
    "        delay = self.extractDelay(freq=freq)\n",
    "        maturity = start + self.extractDelay(end)\n",
    "        date0 = maturity\n",
    "        self.datelist = [date0]\n",
    "        while (date0 > start):\n",
    "            date0 -= delay\n",
    "            self.datelist.append(date0)\n",
    "        self.datelist=sorted(self.datelist)\n",
    "        return self.datelist\n",
    "        \n",
    "    def extractDelay(self, freq):\n",
    "        freqValue=np.int(self.only_numerics(seq=freq))\n",
    "        if (freq.find('M') != -1): \n",
    "            delta = relativedelta(months=+ freqValue)\n",
    "        if (freq.find('Y') != -1): \n",
    "            delta = relativedelta(years=+ freqValue)\n",
    "        if (freq.find('D') != -1): \n",
    "            delta = relativedelta(days=+ freqValue)\n",
    "        if (freq.find('W') != -1): delta = relativedelta(days=+ 7)\n",
    "        return delta\n",
    "    @classmethod\n",
    "    def datediff(self, date1, date2):\n",
    "        if type(date1)==pd.DataFrame:\n",
    "            datedifference= pd.DataFrame([x[0].days/365.0 for x in (date2.values-date1.values)] )\n",
    "            return datedifference\n",
    "        else:\n",
    "            if type(date1)==date:\n",
    "                if date1 > date2:\n",
    "                    return (date1 - date2).days / 365\n",
    "                return (date2 - date1).days / 365\n",
    "\n",
    "    \n",
    "    def only_numerics(self, seq):\n",
    "        seq_type = type(seq)\n",
    "        return seq_type().join(filter(seq_type.isdigit, seq))"
   ]
  },
  {
   "cell_type": "code",
   "execution_count": 12,
   "metadata": {},
   "outputs": [],
   "source": [
    "class CDSBootstrapper(object):\n",
    "    def __init__(self, CDSSpreads, r, R):\n",
    "        self.myScheduler = Scheduler()\n",
    "        self.data=pd.DataFrame()\n",
    "        if (CDSSpreads.index[0]!=\"0D\"):\n",
    "            df = pd.DataFrame(data={\"spread\":0.0,\n",
    "                                   \"delays\":relativedelta(year=0),\n",
    "                                   \"dates\":date.today(),\n",
    "                                    \"yearfraction\":0.0,\n",
    "                                    \"accrual\":0.0,\n",
    "                                   \"Z\": 1,\n",
    "                                    \"Q\": 1}, index=[\"0D\"])\n",
    "            df = df.append(CDSSpreads)\n",
    "            df.spread=df.spread*1E-4\n",
    "        date1 = date.today()\n",
    "        for y in df.index:\n",
    "            delay= self.myScheduler.extractDelay(y)\n",
    "            date2=date.today()+delay\n",
    "            yearfraction = (date2-date.today()).days/365.0\n",
    "            df.loc[y, \"dates\"] = date.today()+delay\n",
    "            df.loc[y,\"delays\"] = delay\n",
    "            df.loc[y, \"accrual\"] = (date2-date1).days/365.0\n",
    "            df.loc[y,\"yearfraction\"]=yearfraction\n",
    "            df.loc[y, \"Z\"] = np.exp(-r*yearfraction)\n",
    "            date1=date2\n",
    "        priorlist = [0]\n",
    "        for n in range(1,len(df)):\n",
    "            Zn=df.Z.iloc[n]\n",
    "            Zn_1 = df.Z.iloc[n-1]\n",
    "            Qn_1 = df.Q.iloc[n - 1]\n",
    "            Sn=df.spread.iloc[n]\n",
    "            dtn=df.accrual.iloc[n]\n",
    "            priorsum=0.0\n",
    "            a = 0\n",
    "            for i in range(1,n):\n",
    "                priorsum+=df.Z.iloc[i]*(df.Q.iloc[i]*df.spread.iloc[n]-(1.0-R)*(df.Q.iloc[i]-df.Q.iloc[i-1]))\n",
    "                a = df.Z.iloc[i]*(df.Q.iloc[i]*df.spread.iloc[n]-(1.0-R)*(df.Q.iloc[i]-df.Q.iloc[i-1]))\n",
    "            priorlist.append(a)\n",
    "            df.Q.iloc[n]=(Zn*(1-R)*Qn_1 - priorsum)/(Zn*(dtn*Sn+1-R))\n",
    "        df.loc[:,'lambda'] = priorlist\n",
    "        self.data=df"
   ]
  },
  {
   "cell_type": "code",
   "execution_count": 13,
   "metadata": {},
   "outputs": [],
   "source": [
    "myscheduler= Scheduler()\n",
    "date1=date.today()\n",
    "date2=date1+myscheduler.extractDelay(\"3M\")\n",
    "#CDSSpreads=pd.DataFrame.from_dict({\"1Y\":18.01,\"2Y\":20.98,\"3Y\":23.06, \"4Y\":31.16, \"5Y\":34.92}, orient=\"index\", columns=[\"spread\"])\n",
    "#CDSSpreads=pd.DataFrame.from_dict({\"1Y\":52.06,\"2Y\":78.08,\"3Y\":77.89, \"4Y\":104.70, \"5Y\":119.97}, orient=\"index\", columns=[\"spread\"])\n",
    "#CDSSpreads=pd.DataFrame.from_dict({\"1Y\":247.19,\"2Y\":237.08,\"3Y\":229.04, \"4Y\":217.03, \"5Y\":199.01}, orient=\"index\", columns=[\"spread\"])\n",
    "CDSSpreads=pd.DataFrame.from_dict({\"1Y\":59.32,\"2Y\":75.13,\"3Y\":83.00, \"4Y\":105.45, \"5Y\":116.00}, orient=\"index\", columns=[\"spread\"])\n",
    "myBootstrapper=CDSBootstrapper(CDSSpreads=CDSSpreads,r=0.01,R=0.5)"
   ]
  },
  {
   "cell_type": "code",
   "execution_count": 14,
   "metadata": {},
   "outputs": [
    {
     "data": {
      "text/html": [
       "<div>\n",
       "<style scoped>\n",
       "    .dataframe tbody tr th:only-of-type {\n",
       "        vertical-align: middle;\n",
       "    }\n",
       "\n",
       "    .dataframe tbody tr th {\n",
       "        vertical-align: top;\n",
       "    }\n",
       "\n",
       "    .dataframe thead th {\n",
       "        text-align: right;\n",
       "    }\n",
       "</style>\n",
       "<table border=\"1\" class=\"dataframe\">\n",
       "  <thead>\n",
       "    <tr style=\"text-align: right;\">\n",
       "      <th></th>\n",
       "      <th>Q</th>\n",
       "      <th>Z</th>\n",
       "      <th>accrual</th>\n",
       "      <th>dates</th>\n",
       "      <th>delays</th>\n",
       "      <th>spread</th>\n",
       "      <th>yearfraction</th>\n",
       "      <th>lambda</th>\n",
       "    </tr>\n",
       "  </thead>\n",
       "  <tbody>\n",
       "    <tr>\n",
       "      <th>0D</th>\n",
       "      <td>1.000000</td>\n",
       "      <td>1.000000</td>\n",
       "      <td>0.00000</td>\n",
       "      <td>2018-12-17</td>\n",
       "      <td>relativedelta()</td>\n",
       "      <td>0.000000</td>\n",
       "      <td>0.00000</td>\n",
       "      <td>0.000000</td>\n",
       "    </tr>\n",
       "    <tr>\n",
       "      <th>1Y</th>\n",
       "      <td>0.988275</td>\n",
       "      <td>0.990050</td>\n",
       "      <td>1.00000</td>\n",
       "      <td>2019-12-17</td>\n",
       "      <td>relativedelta(years=+1)</td>\n",
       "      <td>0.005932</td>\n",
       "      <td>1.00000</td>\n",
       "      <td>0.000000</td>\n",
       "    </tr>\n",
       "    <tr>\n",
       "      <th>2Y</th>\n",
       "      <td>0.947162</td>\n",
       "      <td>0.980172</td>\n",
       "      <td>1.00274</td>\n",
       "      <td>2020-12-17</td>\n",
       "      <td>relativedelta(years=+2)</td>\n",
       "      <td>0.007513</td>\n",
       "      <td>2.00274</td>\n",
       "      <td>0.013155</td>\n",
       "    </tr>\n",
       "    <tr>\n",
       "      <th>3Y</th>\n",
       "      <td>0.846994</td>\n",
       "      <td>0.970419</td>\n",
       "      <td>1.00000</td>\n",
       "      <td>2021-12-17</td>\n",
       "      <td>relativedelta(years=+3)</td>\n",
       "      <td>0.008300</td>\n",
       "      <td>3.00274</td>\n",
       "      <td>0.027855</td>\n",
       "    </tr>\n",
       "    <tr>\n",
       "      <th>4Y</th>\n",
       "      <td>0.618843</td>\n",
       "      <td>0.960763</td>\n",
       "      <td>1.00000</td>\n",
       "      <td>2022-12-17</td>\n",
       "      <td>relativedelta(years=+4)</td>\n",
       "      <td>0.010545</td>\n",
       "      <td>4.00274</td>\n",
       "      <td>0.057269</td>\n",
       "    </tr>\n",
       "    <tr>\n",
       "      <th>5Y</th>\n",
       "      <td>0.147168</td>\n",
       "      <td>0.951203</td>\n",
       "      <td>1.00000</td>\n",
       "      <td>2023-12-17</td>\n",
       "      <td>relativedelta(years=+5)</td>\n",
       "      <td>0.011600</td>\n",
       "      <td>5.00274</td>\n",
       "      <td>0.116497</td>\n",
       "    </tr>\n",
       "  </tbody>\n",
       "</table>\n",
       "</div>"
      ],
      "text/plain": [
       "           Q         Z  accrual       dates                   delays  \\\n",
       "0D  1.000000  1.000000  0.00000  2018-12-17          relativedelta()   \n",
       "1Y  0.988275  0.990050  1.00000  2019-12-17  relativedelta(years=+1)   \n",
       "2Y  0.947162  0.980172  1.00274  2020-12-17  relativedelta(years=+2)   \n",
       "3Y  0.846994  0.970419  1.00000  2021-12-17  relativedelta(years=+3)   \n",
       "4Y  0.618843  0.960763  1.00000  2022-12-17  relativedelta(years=+4)   \n",
       "5Y  0.147168  0.951203  1.00000  2023-12-17  relativedelta(years=+5)   \n",
       "\n",
       "      spread  yearfraction    lambda  \n",
       "0D  0.000000       0.00000  0.000000  \n",
       "1Y  0.005932       1.00000  0.000000  \n",
       "2Y  0.007513       2.00274  0.013155  \n",
       "3Y  0.008300       3.00274  0.027855  \n",
       "4Y  0.010545       4.00274  0.057269  \n",
       "5Y  0.011600       5.00274  0.116497  "
      ]
     },
     "execution_count": 14,
     "metadata": {},
     "output_type": "execute_result"
    }
   ],
   "source": [
    "myBootstrapper.data"
   ]
  },
  {
   "cell_type": "code",
   "execution_count": 15,
   "metadata": {},
   "outputs": [],
   "source": [
    "data = myBootstrapper.data\n",
    "lambdalist = data['lambda'].tolist()[1:]"
   ]
  },
  {
   "cell_type": "code",
   "execution_count": 16,
   "metadata": {},
   "outputs": [],
   "source": [
    "#Monte Carlo simulation\n",
    "N= 1000\n",
    "T1 = 1\n",
    "T2 = 2\n",
    "pricelist = []\n",
    "R = 0.5\n",
    "K = 101\n",
    "\n",
    "optionvalue2 = []\n",
    "for j in range(N):\n",
    "    optionvalue = []\n",
    "    for i in range(100):\n",
    "        #Finnalvalue denotes the final value of the bond and needs to be compared with the execution price.\n",
    "        finnalvalue = 0\n",
    "        for t in range(T1 - 1,T2):\n",
    "            rand = np.random.rand()\n",
    "            if(rand<np.exp(-lambdalist[t])):\n",
    "                finnalvalue += 100*0.02*((1+0.05)**(T2 - t))\n",
    "            else:\n",
    "                #default\n",
    "                finnalvalue += 100*R*((1+0.05)**(T2 - t))\n",
    "                break\n",
    "            if(t==T2-1):\n",
    "                finnalvalue += 100\n",
    "        finnalOptionValue = max(0,finnalvalue - K)\n",
    "        optionvalue1 = finnalOptionValue/(1+0.05)**(T2 - T1 + 1)\n",
    "        \n",
    "        optionvalue.append(optionvalue1)\n",
    "    optionvalue2.append(np.mean(optionvalue))"
   ]
  },
  {
   "cell_type": "code",
   "execution_count": 17,
   "metadata": {},
   "outputs": [
    {
     "data": {
      "text/plain": [
       "[<matplotlib.lines.Line2D at 0x16858a602e8>]"
      ]
     },
     "execution_count": 17,
     "metadata": {},
     "output_type": "execute_result"
    },
    {
     "data": {
      "image/png": "[encoded data removed]",
      "text/plain": [
       "<Figure size 720x360 with 1 Axes>"
      ]
     },
     "metadata": {
      "needs_background": "light"
     },
     "output_type": "display_data"
    }
   ],
   "source": [
    "import matplotlib.pyplot as plt\n",
    "plt.figure(figsize=(10,5))\n",
    "plt.plot(range(len(optionvalue2)),optionvalue2)"
   ]
  },
  {
   "cell_type": "code",
   "execution_count": 18,
   "metadata": {},
   "outputs": [
    {
     "data": {
      "text/plain": [
       "2.9580424489795982"
      ]
     },
     "execution_count": 18,
     "metadata": {},
     "output_type": "execute_result"
    }
   ],
   "source": [
    "np.mean(optionvalue2)"
   ]
  },
  {
   "cell_type": "code",
   "execution_count": null,
   "metadata": {},
   "outputs": [],
   "source": []
  },
  {
   "cell_type": "code",
   "execution_count": null,
   "metadata": {},
   "outputs": [],
   "source": []
  }
 ],
 "metadata": {
  "kernelspec": {
   "display_name": "Python 3",
   "language": "python",
   "name": "python3"
  },
  "language_info": {
   "codemirror_mode": {
    "name": "ipython",
    "version": 3
   },
   "file_extension": ".py",
   "mimetype": "text/x-python",
   "name": "python",
   "nbconvert_exporter": "python",
   "pygments_lexer": "ipython3",
   "version": "3.7.0"
  }
 },
 "nbformat": 4,
 "nbformat_minor": 2
}
